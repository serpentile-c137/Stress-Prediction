{
 "cells": [
  {
   "cell_type": "code",
   "execution_count": 1,
   "metadata": {},
   "outputs": [
    {
     "name": "stderr",
     "output_type": "stream",
     "text": [
      "c:\\Program Files\\Python38\\lib\\site-packages\\tqdm\\auto.py:21: TqdmWarning: IProgress not found. Please update jupyter and ipywidgets. See https://ipywidgets.readthedocs.io/en/stable/user_install.html\n",
      "  from .autonotebook import tqdm as notebook_tqdm\n"
     ]
    }
   ],
   "source": [
    "import torch\n",
    "import torch.nn as nn\n",
    "from torch.utils.data import Dataset, DataLoader\n",
    "from sklearn.model_selection import train_test_split\n",
    "from sklearn.metrics import accuracy_score\n",
    "import seaborn as sns\n",
    "import pandas as pd\n",
    "import numpy as np"
   ]
  },
  {
   "cell_type": "code",
   "execution_count": 3,
   "metadata": {},
   "outputs": [],
   "source": [
    "data = pd.read_csv(r'C:\\Users\\sahus\\Stress-Prediction\\cluster_test.csv')"
   ]
  },
  {
   "cell_type": "code",
   "execution_count": 4,
   "metadata": {},
   "outputs": [
    {
     "name": "stdout",
     "output_type": "stream",
     "text": [
      "<class 'pandas.core.frame.DataFrame'>\n",
      "RangeIndex: 451270 entries, 0 to 451269\n",
      "Data columns (total 5 columns):\n",
      " #   Column   Non-Null Count   Dtype  \n",
      "---  ------   --------------   -----  \n",
      " 0   EDA      451270 non-null  float64\n",
      " 1   TEMP     451270 non-null  float64\n",
      " 2   BVP      451270 non-null  float64\n",
      " 3   HR       451270 non-null  float64\n",
      " 4   Cluster  451270 non-null  int64  \n",
      "dtypes: float64(4), int64(1)\n",
      "memory usage: 17.2 MB\n"
     ]
    }
   ],
   "source": [
    "data = data.drop('Unnamed: 0', axis=1)\n",
    "data.info()"
   ]
  },
  {
   "cell_type": "code",
   "execution_count": 5,
   "metadata": {},
   "outputs": [
    {
     "data": {
      "text/plain": [
       "((451270, 4), (451270,))"
      ]
     },
     "execution_count": 5,
     "metadata": {},
     "output_type": "execute_result"
    }
   ],
   "source": [
    "X = data.iloc[:, :-1]\n",
    "y = data.iloc[:, -1]\n",
    "\n",
    "X.shape, y.shape"
   ]
  },
  {
   "cell_type": "code",
   "execution_count": 6,
   "metadata": {},
   "outputs": [
    {
     "name": "stdout",
     "output_type": "stream",
     "text": [
      "<class 'pandas.core.frame.DataFrame'>\n",
      "RangeIndex: 451270 entries, 0 to 451269\n",
      "Data columns (total 4 columns):\n",
      " #   Column  Non-Null Count   Dtype  \n",
      "---  ------  --------------   -----  \n",
      " 0   EDA     451270 non-null  float64\n",
      " 1   TEMP    451270 non-null  float64\n",
      " 2   BVP     451270 non-null  float64\n",
      " 3   HR      451270 non-null  float64\n",
      "dtypes: float64(4)\n",
      "memory usage: 13.8 MB\n"
     ]
    }
   ],
   "source": [
    "X.info()"
   ]
  },
  {
   "cell_type": "code",
   "execution_count": 7,
   "metadata": {},
   "outputs": [],
   "source": [
    "X_train, X_test, y_train, y_test = train_test_split(X, y, test_size=0.2, random_state=73)"
   ]
  },
  {
   "cell_type": "code",
   "execution_count": 8,
   "metadata": {},
   "outputs": [
    {
     "data": {
      "text/plain": [
       "((361016, 4), (90254, 4))"
      ]
     },
     "execution_count": 8,
     "metadata": {},
     "output_type": "execute_result"
    }
   ],
   "source": [
    "X_train.shape, X_test.shape"
   ]
  },
  {
   "cell_type": "code",
   "execution_count": 9,
   "metadata": {},
   "outputs": [],
   "source": [
    "# splitting X_test again using train_test_split\n",
    "X_train, X_test, y_train, y_test = train_test_split(X_test, y_test, test_size=0.25, random_state=73)"
   ]
  },
  {
   "cell_type": "code",
   "execution_count": 10,
   "metadata": {},
   "outputs": [
    {
     "data": {
      "text/plain": [
       "((67690, 4), (22564, 4))"
      ]
     },
     "execution_count": 10,
     "metadata": {},
     "output_type": "execute_result"
    }
   ],
   "source": [
    "X_train.shape, X_test.shape"
   ]
  },
  {
   "cell_type": "code",
   "execution_count": 11,
   "metadata": {},
   "outputs": [
    {
     "data": {
      "text/plain": [
       "((67690,), (22564,))"
      ]
     },
     "execution_count": 11,
     "metadata": {},
     "output_type": "execute_result"
    }
   ],
   "source": [
    "y_train.shape, y_test.shape"
   ]
  },
  {
   "cell_type": "code",
   "execution_count": 12,
   "metadata": {},
   "outputs": [],
   "source": [
    "# %% convert to float32\n",
    "# X_train = X_train.astype('float32')\n",
    "# X_test = X_test.astype('float32')\n",
    "X_train = X_train.values.astype(np.float32)\n",
    "X_test = X_test.values.astype(np.float32)\n",
    "y_train = y_train.values.astype(np.float32)\n",
    "y_test = y_test.values.astype(np.float32)"
   ]
  },
  {
   "cell_type": "code",
   "execution_count": 129,
   "metadata": {},
   "outputs": [],
   "source": [
    "# %% dataset\n",
    "class StressData(Dataset):\n",
    "    def __init__(self, X_train, y_train) -> None:\n",
    "        super().__init__()\n",
    "        # Convert DataFrame to NumPy ndarray \n",
    "        X_train_np = X_train.astype(np.float32) \n",
    "        y_train_np = y_train.astype(np.int64) \n",
    "        # Convert NumPy ndarray to PyTorch tensor \n",
    "        self.X = torch.from_numpy(X_train_np) \n",
    "        self.y = torch.from_numpy(y_train_np)\n",
    "\n",
    "        # self.X = torch.from_numpy(X_train)\n",
    "        # self.y = torch.from_numpy(y_train)\n",
    "        # self.y = self.y.type(torch.LongTensor)\n",
    "        self.len = self.X.shape[0]\n",
    "\n",
    "    def __getitem__(self, index):\n",
    "        return self.X[index], self.y[index]\n",
    "    \n",
    "    def __len__(self):\n",
    "        return self.len\n"
   ]
  },
  {
   "cell_type": "code",
   "execution_count": 130,
   "metadata": {},
   "outputs": [],
   "source": [
    "# %% dataloader\n",
    "stress_data = StressData(X_train=X_train, y_train=y_train)\n",
    "train_loader = DataLoader(dataset=stress_data, batch_size=32)"
   ]
  },
  {
   "cell_type": "code",
   "execution_count": 131,
   "metadata": {},
   "outputs": [
    {
     "name": "stdout",
     "output_type": "stream",
     "text": [
      "X Shape: torch.Size([67690, 4]), y shape: torch.Size([67690])\n"
     ]
    }
   ],
   "source": [
    "# %% check dimensions\n",
    "print(f\"X Shape: {stress_data.X.shape}, y shape: {stress_data.y.shape}\")\n"
   ]
  },
  {
   "cell_type": "code",
   "execution_count": 168,
   "metadata": {},
   "outputs": [],
   "source": [
    "# %% define class\n",
    "class MultiClassNet(nn.Module):\n",
    "    def __init__(self, NUM_FEATURES, NUM_CLASSES, HIDDEN_FEATURES):\n",
    "        super().__init__()\n",
    "        self.lin1 = nn.Linear(NUM_FEATURES, HIDDEN_FEATURES)\n",
    "        self.lin2 = nn.Linear(HIDDEN_FEATURES, NUM_CLASSES)\n",
    "        self.sigmoid = nn.Sigmoid()\n",
    "\n",
    "    def forward(self, x):\n",
    "        x = self.lin1(x)\n",
    "        x = torch.sigmoid(x)\n",
    "        x = self.lin2(x)\n",
    "        x = self.sigmoid(x)\n",
    "        return x"
   ]
  },
  {
   "cell_type": "code",
   "execution_count": 171,
   "metadata": {},
   "outputs": [],
   "source": [
    "# %% hyper parameters\n",
    "NUM_FEATURES = stress_data.X.shape[1]\n",
    "HIDDEN = 8\n",
    "NUM_CLASSES = len(stress_data.y.unique())"
   ]
  },
  {
   "cell_type": "code",
   "execution_count": 172,
   "metadata": {},
   "outputs": [
    {
     "data": {
      "text/plain": [
       "(4, 2)"
      ]
     },
     "execution_count": 172,
     "metadata": {},
     "output_type": "execute_result"
    }
   ],
   "source": [
    "NUM_FEATURES, NUM_CLASSES"
   ]
  },
  {
   "cell_type": "code",
   "execution_count": 173,
   "metadata": {},
   "outputs": [],
   "source": [
    "# %% create model instance\n",
    "model = MultiClassNet(NUM_FEATURES=NUM_FEATURES, NUM_CLASSES=NUM_CLASSES, HIDDEN_FEATURES=HIDDEN)"
   ]
  },
  {
   "cell_type": "code",
   "execution_count": 174,
   "metadata": {},
   "outputs": [],
   "source": [
    "# %% loss function\n",
    "criterion = nn.CrossEntropyLoss()\n",
    "# criterion = nn.BCELoss() # binary cross entropy loss"
   ]
  },
  {
   "cell_type": "code",
   "execution_count": 175,
   "metadata": {},
   "outputs": [],
   "source": [
    "# %% optimizer\n",
    "lr = 0.02\n",
    "optimizer=torch.optim.SGD(model.parameters(), lr=lr)"
   ]
  },
  {
   "cell_type": "code",
   "execution_count": 176,
   "metadata": {},
   "outputs": [
    {
     "name": "stdout",
     "output_type": "stream",
     "text": [
      "Epoch 0, Loss: 0.7067067623138428\n",
      "tensor([[0.6420, 0.6989],\n",
      "        [0.6317, 0.6563],\n",
      "        [0.6203, 0.6649],\n",
      "        [0.6420, 0.6989],\n",
      "        [0.6420, 0.6989],\n",
      "        [0.6420, 0.6989],\n",
      "        [0.6419, 0.6987],\n",
      "        [0.6416, 0.6980],\n",
      "        [0.6195, 0.6589],\n",
      "        [0.6420, 0.6989]], grad_fn=<SigmoidBackward0>)\n",
      "Epoch 10, Loss: 0.7031141519546509\n",
      "tensor([[0.8808, 0.0867],\n",
      "        [0.3731, 0.6877],\n",
      "        [0.8856, 0.1178],\n",
      "        [0.2646, 0.8238],\n",
      "        [0.8773, 0.0911],\n",
      "        [0.2657, 0.8226],\n",
      "        [0.4534, 0.6027],\n",
      "        [0.2605, 0.8279],\n",
      "        [0.8854, 0.1177],\n",
      "        [0.3081, 0.7777]], grad_fn=<SigmoidBackward0>)\n",
      "Epoch 20, Loss: 0.706459641456604\n",
      "tensor([[0.9327, 0.0617],\n",
      "        [0.3651, 0.7358],\n",
      "        [0.9336, 0.0785],\n",
      "        [0.2390, 0.8615],\n",
      "        [0.9325, 0.0620],\n",
      "        [0.2432, 0.8583],\n",
      "        [0.4783, 0.6171],\n",
      "        [0.2345, 0.8649],\n",
      "        [0.9336, 0.0785],\n",
      "        [0.3040, 0.8095]], grad_fn=<SigmoidBackward0>)\n",
      "Epoch 30, Loss: 0.7297780513763428\n",
      "tensor([[0.9512, 0.0483],\n",
      "        [0.3577, 0.7586],\n",
      "        [0.9512, 0.0591],\n",
      "        [0.2363, 0.8722],\n",
      "        [0.9511, 0.0485],\n",
      "        [0.2450, 0.8660],\n",
      "        [0.2858, 0.8318],\n",
      "        [0.2318, 0.8754],\n",
      "        [0.9512, 0.0591],\n",
      "        [0.3080, 0.8184]], grad_fn=<SigmoidBackward0>)\n",
      "Epoch 40, Loss: 0.7177175283432007\n",
      "tensor([[0.9610, 0.0440],\n",
      "        [0.3192, 0.8378],\n",
      "        [0.9577, 0.0569],\n",
      "        [0.2360, 0.8926],\n",
      "        [0.9594, 0.0474],\n",
      "        [0.2484, 0.8849],\n",
      "        [0.3827, 0.7761],\n",
      "        [0.2325, 0.8946],\n",
      "        [0.9576, 0.0570],\n",
      "        [0.3175, 0.8390]], grad_fn=<SigmoidBackward0>)\n"
     ]
    }
   ],
   "source": [
    "# %% training\n",
    "NUM_EPOCHS = 50\n",
    "losses = []\n",
    "for epoch in range(NUM_EPOCHS):\n",
    "    for x, y in train_loader:\n",
    "      \n",
    "        # initialize gradients\n",
    "        optimizer.zero_grad()\n",
    "\n",
    "        # forward pass\n",
    "        y_hat_log = model(x)\n",
    "        \n",
    "        # calculate losses\n",
    "        loss = criterion(y_hat_log, y)\n",
    "        \n",
    "        # calculate gradients\n",
    "        \n",
    "        loss.backward()\n",
    "        # update parameters \n",
    "        optimizer.step()\n",
    "\n",
    "    if (epoch % 10 == 0):\n",
    "        print(f\"Epoch {epoch}, Loss: {loss.data}\")\n",
    "        print(y_hat_log)\n",
    "        \n",
    "    losses.append(float(loss.data.detach().numpy()))"
   ]
  },
  {
   "cell_type": "code",
   "execution_count": 177,
   "metadata": {},
   "outputs": [
    {
     "data": {
      "text/plain": [
       "<Axes: >"
      ]
     },
     "execution_count": 177,
     "metadata": {},
     "output_type": "execute_result"
    },
    {
     "data": {
      "image/png": "[encoded data removed]",
      "text/plain": [
       "<Figure size 640x480 with 1 Axes>"
      ]
     },
     "metadata": {},
     "output_type": "display_data"
    }
   ],
   "source": [
    "# %% show losses over epochs\n",
    "\n",
    "sns.lineplot(x= range(len(losses)), y = losses)"
   ]
  },
  {
   "cell_type": "code",
   "execution_count": 162,
   "metadata": {},
   "outputs": [],
   "source": [
    "# %% test the model\n",
    "X_test_torch = torch.from_numpy(X_test)\n",
    "with torch.no_grad():\n",
    "    y_test_hat_softmax = model(X_test_torch)\n",
    "    y_test_hat = torch.max(y_test_hat_softmax.data, 1)\n"
   ]
  },
  {
   "cell_type": "code",
   "execution_count": 163,
   "metadata": {},
   "outputs": [
    {
     "data": {
      "text/plain": [
       "0.5075784435383797"
      ]
     },
     "execution_count": 163,
     "metadata": {},
     "output_type": "execute_result"
    }
   ],
   "source": [
    "# %% Accuracy\n",
    "accuracy_score(y_test, y_test_hat.indices)"
   ]
  },
  {
   "cell_type": "code",
   "execution_count": 164,
   "metadata": {},
   "outputs": [
    {
     "name": "stdout",
     "output_type": "stream",
     "text": [
      "Naive Classifier: 50.75784435383797 %\n"
     ]
    }
   ],
   "source": [
    "from collections import Counter\n",
    "most_common_cnt = Counter(y_test).most_common()[0][1]\n",
    "print(f\"Naive Classifier: {most_common_cnt / len(y_test) * 100} %\")\n"
   ]
  },
  {
   "cell_type": "code",
   "execution_count": null,
   "metadata": {},
   "outputs": [],
   "source": []
  },
  {
   "cell_type": "code",
   "execution_count": null,
   "metadata": {},
   "outputs": [],
   "source": []
  }
 ],
 "metadata": {
  "kernelspec": {
   "display_name": "Python 3",
   "language": "python",
   "name": "python3"
  },
  "language_info": {
   "codemirror_mode": {
    "name": "ipython",
    "version": 3
   },
   "file_extension": ".py",
   "mimetype": "text/x-python",
   "name": "python",
   "nbconvert_exporter": "python",
   "pygments_lexer": "ipython3",
   "version": "3.8.2"
  }
 },
 "nbformat": 4,
 "nbformat_minor": 2
}
