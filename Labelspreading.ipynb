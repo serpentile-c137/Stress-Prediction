{
 "cells": [
  {
   "cell_type": "code",
   "execution_count": 2,
   "metadata": {},
   "outputs": [
    {
     "name": "stdout",
     "output_type": "stream",
     "text": [
      "Fitting 3 folds for each of 54 candidates, totalling 162 fits\n",
      "Best hyperparameters: {'gamma': 0.1, 'kernel': 'knn', 'max_iter': 50, 'n_neighbors': 5}\n"
     ]
    },
    {
     "name": "stderr",
     "output_type": "stream",
     "text": [
      "Training Batches: 100%|██████████| 113/113 [00:02<00:00, 48.84batch/s]\n"
     ]
    },
    {
     "name": "stdout",
     "output_type": "stream",
     "text": [
      "Final Model Accuracy: 0.9120\n"
     ]
    }
   ],
   "source": [
    "import pandas as pd\n",
    "import numpy as np\n",
    "from sklearn.preprocessing import StandardScaler\n",
    "from sklearn.model_selection import train_test_split, GridSearchCV\n",
    "from sklearn.metrics import accuracy_score  # For evaluating accuracy\n",
    "from sklearn.semi_supervised import LabelSpreading\n",
    "from tqdm import tqdm\n",
    "import warnings\n",
    "warnings.filterwarnings('ignore')\n",
    "# Load the data using pandas\n",
    "file_path = 'cluster_new_raw_test.csv'\n",
    "df = pd.read_csv(file_path)\n",
    "\n",
    "# Drop unnecessary column\n",
    "df.drop(columns=['id'], inplace=True)\n",
    "\n",
    "# Show first few rows\n",
    "df.head()\n",
    "\n",
    "# Check the distribution of target variable\n",
    "y = df['Cluster']\n",
    "y.value_counts()\n",
    "\n",
    "# Define target column and features\n",
    "target_column = 'Cluster'\n",
    "X = df.drop(columns=[target_column])\n",
    "y = df[target_column]\n",
    "\n",
    "# Apply standardization (scaling) to the features\n",
    "scaler = StandardScaler()  # Create the StandardScaler object\n",
    "X = scaler.fit_transform(X)  # Apply scaling\n",
    "\n",
    "# Split the data into train and test (using sklearn)\n",
    "X_train, X_test, y_train, y_test = train_test_split(X, y, test_size=0.25, random_state=42)\n",
    "\n",
    "# For Label Spreading, we need to handle unlabeled data.\n",
    "# We'll simulate unlabeled data by marking a portion of the training labels as -1 (unlabeled)\n",
    "# You can adjust this ratio as necessary.\n",
    "n_unlabeled = int(len(y_train) * 0.5)  # Example: 50% unlabeled data\n",
    "y_train_unlabeled = y_train.copy()\n",
    "\n",
    "# Use positional indices, not the actual index values in the DataFrame\n",
    "unlabeled_indices = np.random.choice(len(y_train), size=n_unlabeled, replace=False)\n",
    "\n",
    "# Now, set the selected indices to -1 (unlabeled)\n",
    "y_train_unlabeled.iloc[unlabeled_indices] = -1\n",
    "\n",
    "# Define the parameter grid for hyperparameter tuning\n",
    "param_grid = {\n",
    "    'kernel': ['knn', 'rbf'],  # Kernel types: 'knn' (k-nearest neighbors) or 'rbf' (Radial Basis Function)\n",
    "    'gamma': [0.1, 0.5, 1.0],  # For 'rbf' kernel: regularization parameter\n",
    "    'n_neighbors': [3, 5, 10],  # Number of neighbors for 'knn' kernel\n",
    "    'max_iter': [50, 100, 200]  # Maximum number of iterations for optimization\n",
    "}\n",
    "\n",
    "# Initialize the LabelSpreading model\n",
    "model = LabelSpreading()\n",
    "\n",
    "# Set up GridSearchCV for hyperparameter tuning\n",
    "grid_search = GridSearchCV(estimator=model, param_grid=param_grid, cv=3, n_jobs=-1, verbose=2)\n",
    "\n",
    "# Perform grid search to find the best parameters\n",
    "grid_search.fit(X_train, y_train_unlabeled)\n",
    "\n",
    "# Display the best hyperparameters\n",
    "print(f\"Best hyperparameters: {grid_search.best_params_}\")\n",
    "\n",
    "# Get the best model from grid search\n",
    "best_model = grid_search.best_estimator_\n",
    "\n",
    "# Training loop with batch processing\n",
    "batch_size = 3000 \n",
    "n_batches = len(X_train) // batch_size + (1 if len(X_train) % batch_size != 0 else 0)\n",
    "\n",
    "for batch_idx in tqdm(range(n_batches), desc=\"Training Batches\", unit=\"batch\"):\n",
    "    # Get the start and end indices for this batch\n",
    "    start_idx = batch_idx * batch_size\n",
    "    end_idx = min((batch_idx + 1) * batch_size, len(X_train))\n",
    "\n",
    "    # Slice the training data for this batch\n",
    "    X_batch = X_train[start_idx:end_idx]\n",
    "    y_batch = y_train_unlabeled[start_idx:end_idx]\n",
    "\n",
    "    # Train on this batch (for label spreading, we train on the entire data)\n",
    "    best_model.fit(X_batch, y_batch)\n",
    "\n",
    "# Evaluate the model\n",
    "y_pred = best_model.predict(X_test)\n",
    "accuracy = accuracy_score(y_test, y_pred)\n",
    "print(f\"Final Model Accuracy: {accuracy:.4f}\")\n"
   ]
  },
  {
   "cell_type": "code",
   "execution_count": 3,
   "metadata": {},
   "outputs": [
    {
     "name": "stdout",
     "output_type": "stream",
     "text": [
      "Final Model Accuracy: 0.9120\n",
      "Final Model Accuracy: 0.9120\n",
      "Precision (weighted): 0.9120\n",
      "Recall (weighted): 0.9120\n",
      "F1 Score (weighted): 0.9120\n",
      "Confusion Matrix:\n",
      "[[55483  4770]\n",
      " [ 5161 47404]]\n"
     ]
    }
   ],
   "source": [
    "from sklearn.metrics import accuracy_score, precision_score, recall_score, f1_score, confusion_matrix\n",
    "# Calculate various evaluation metrics\n",
    "precision = precision_score(y_test, y_pred, average='weighted', zero_division=1)\n",
    "recall = recall_score(y_test, y_pred, average='weighted', zero_division=1)\n",
    "f1 = f1_score(y_test, y_pred, average='weighted', zero_division=1)\n",
    "conf_matrix = confusion_matrix(y_test, y_pred)\n",
    "# Print the evaluation results\n",
    "print(f\"Final Model Accuracy: {accuracy:.4f}\")\n",
    "print(f\"Final Model Accuracy: {accuracy:.4f}\")\n",
    "print(f\"Precision (weighted): {precision:.4f}\")\n",
    "print(f\"Recall (weighted): {recall:.4f}\")\n",
    "print(f\"F1 Score (weighted): {f1:.4f}\")\n",
    "print(\"Confusion Matrix:\")\n",
    "print(conf_matrix)\n"
   ]
  },
  {
   "cell_type": "code",
   "execution_count": null,
   "metadata": {},
   "outputs": [],
   "source": []
  }
 ],
 "metadata": {
  "kernelspec": {
   "display_name": "Python 3",
   "language": "python",
   "name": "python3"
  },
  "language_info": {
   "codemirror_mode": {
    "name": "ipython",
    "version": 3
   },
   "file_extension": ".py",
   "mimetype": "text/x-python",
   "name": "python",
   "nbconvert_exporter": "python",
   "pygments_lexer": "ipython3",
   "version": "3.11.3"
  }
 },
 "nbformat": 4,
 "nbformat_minor": 4
}
