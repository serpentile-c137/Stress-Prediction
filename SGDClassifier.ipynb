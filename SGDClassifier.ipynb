{
 "cells": [
  {
   "cell_type": "code",
   "execution_count": 10,
   "metadata": {},
   "outputs": [
    {
     "name": "stdout",
     "output_type": "stream",
     "text": [
      "Training with learning_rate=0.001 and num_epochs=50\n"
     ]
    },
    {
     "name": "stderr",
     "output_type": "stream",
     "text": [
      "Training Epochs: 100%|██████████| 50/50 [00:00<00:00, 807.50epoch/s]\n"
     ]
    },
    {
     "name": "stdout",
     "output_type": "stream",
     "text": [
      "Accuracy: 0.4604\n",
      "Training with learning_rate=0.001 and num_epochs=100\n"
     ]
    },
    {
     "name": "stderr",
     "output_type": "stream",
     "text": [
      "Training Epochs: 100%|██████████| 100/100 [00:00<00:00, 558.25epoch/s]\n"
     ]
    },
    {
     "name": "stdout",
     "output_type": "stream",
     "text": [
      "Accuracy: 0.7966\n",
      "Training with learning_rate=0.001 and num_epochs=150\n"
     ]
    },
    {
     "name": "stderr",
     "output_type": "stream",
     "text": [
      "Training Epochs: 100%|██████████| 150/150 [00:00<00:00, 200.24epoch/s]\n"
     ]
    },
    {
     "name": "stdout",
     "output_type": "stream",
     "text": [
      "Accuracy: 0.5335\n",
      "Training with learning_rate=0.01 and num_epochs=50\n"
     ]
    },
    {
     "name": "stderr",
     "output_type": "stream",
     "text": [
      "Training Epochs: 100%|██████████| 50/50 [00:00<00:00, 1082.10epoch/s]\n"
     ]
    },
    {
     "name": "stdout",
     "output_type": "stream",
     "text": [
      "Accuracy: 0.5924\n",
      "Training with learning_rate=0.01 and num_epochs=100\n"
     ]
    },
    {
     "name": "stderr",
     "output_type": "stream",
     "text": [
      "Training Epochs: 100%|██████████| 100/100 [00:00<00:00, 581.56epoch/s]\n"
     ]
    },
    {
     "name": "stdout",
     "output_type": "stream",
     "text": [
      "Accuracy: 0.7511\n",
      "Training with learning_rate=0.01 and num_epochs=150\n"
     ]
    },
    {
     "name": "stderr",
     "output_type": "stream",
     "text": [
      "Training Epochs: 100%|██████████| 150/150 [00:00<00:00, 198.36epoch/s]\n"
     ]
    },
    {
     "name": "stdout",
     "output_type": "stream",
     "text": [
      "Accuracy: 0.8608\n",
      "Training with learning_rate=0.1 and num_epochs=50\n"
     ]
    },
    {
     "name": "stderr",
     "output_type": "stream",
     "text": [
      "Training Epochs: 100%|██████████| 50/50 [00:00<00:00, 1054.96epoch/s]\n"
     ]
    },
    {
     "name": "stdout",
     "output_type": "stream",
     "text": [
      "Accuracy: 0.9053\n",
      "Training with learning_rate=0.1 and num_epochs=100\n"
     ]
    },
    {
     "name": "stderr",
     "output_type": "stream",
     "text": [
      "Training Epochs: 100%|██████████| 100/100 [00:00<00:00, 569.22epoch/s]\n"
     ]
    },
    {
     "name": "stdout",
     "output_type": "stream",
     "text": [
      "Accuracy: 0.9068\n",
      "Training with learning_rate=0.1 and num_epochs=150\n"
     ]
    },
    {
     "name": "stderr",
     "output_type": "stream",
     "text": [
      "Training Epochs: 100%|██████████| 150/150 [00:00<00:00, 200.65epoch/s]\n"
     ]
    },
    {
     "name": "stdout",
     "output_type": "stream",
     "text": [
      "Accuracy: 0.9061\n",
      "Best Hyperparameters: Learning Rate=0.1, Epochs=100\n",
      "Best Model Accuracy: 0.9068\n"
     ]
    }
   ],
   "source": [
    "import pandas as pd\n",
    "import torch\n",
    "import torch.nn as nn\n",
    "import torch.optim as optim\n",
    "from sklearn.preprocessing import StandardScaler\n",
    "from sklearn.model_selection import train_test_split\n",
    "from sklearn.metrics import accuracy_score, precision_score, recall_score, f1_score, confusion_matrix\n",
    "from tqdm import tqdm\n",
    "import itertools\n",
    "\n",
    "# Load the data using pandas\n",
    "file_path = 'cluster_new_raw_test.csv'\n",
    "df = pd.read_csv(file_path)\n",
    "\n",
    "# Drop unnecessary column\n",
    "df.drop(columns=['id'], inplace=True)\n",
    "\n",
    "# Define target column and features\n",
    "target_column = 'Cluster'\n",
    "X = df.drop(columns=[target_column])\n",
    "y = df[target_column]\n",
    "\n",
    "# Apply standardization (scaling) to the features\n",
    "scaler = StandardScaler()  # Create the StandardScaler object\n",
    "X = scaler.fit_transform(X)  # Apply scaling\n",
    "\n",
    "# Convert to Torch tensors (necessary for GPU-based operations)\n",
    "X = torch.tensor(X, dtype=torch.float32).cuda()  # Move the features to GPU\n",
    "y = torch.tensor(y.values, dtype=torch.long).cuda()  # Move target to GPU\n",
    "\n",
    "# Split the data into train and test (using sklearn)\n",
    "X_train, X_test, y_train, y_test = train_test_split(X.cpu().numpy(), y.cpu().numpy(), test_size=0.25, random_state=42)\n",
    "\n",
    "# Convert back to Torch tensors after train-test split\n",
    "X_train = torch.tensor(X_train, dtype=torch.float32).cuda()\n",
    "X_test = torch.tensor(X_test, dtype=torch.float32).cuda()\n",
    "y_train = torch.tensor(y_train, dtype=torch.long).cuda()\n",
    "y_test = torch.tensor(y_test, dtype=torch.long).cuda()\n",
    "\n",
    "# Define a simple linear model similar to SGDClassifier\n",
    "class SGDModel(nn.Module):\n",
    "    def __init__(self, input_dim):\n",
    "        super(SGDModel, self).__init__()\n",
    "        self.fc = nn.Linear(input_dim, 2)  # Binary classification\n",
    "\n",
    "    def forward(self, x):\n",
    "        return self.fc(x)\n",
    "\n",
    "# Function for training the model and evaluating accuracy\n",
    "def train_and_evaluate_model_accuracy(learning_rate, num_epochs):\n",
    "    # Initialize the model\n",
    "    model = SGDModel(X_train.shape[1]).cuda()\n",
    "\n",
    "    # Define loss function and optimizer\n",
    "    criterion = nn.CrossEntropyLoss()  # CrossEntropy for classification\n",
    "    optimizer = optim.SGD(model.parameters(), lr=learning_rate)\n",
    "\n",
    "    # Training loop\n",
    "    for epoch in tqdm(range(num_epochs), desc=\"Training Epochs\", unit=\"epoch\"):\n",
    "        model.train()\n",
    "        optimizer.zero_grad()  # Clear gradients\n",
    "        outputs = model(X_train)  # Forward pass\n",
    "        loss = criterion(outputs, y_train)  # Compute loss\n",
    "        loss.backward()  # Backpropagation\n",
    "        optimizer.step()  # Update weights\n",
    "\n",
    "    # Evaluate the model\n",
    "    model.eval()  # Switch to evaluation mode\n",
    "    with torch.no_grad():\n",
    "        y_pred = model(X_test)  # Make predictions\n",
    "        _, predicted = torch.max(y_pred, 1)  # Get predicted class labels\n",
    "\n",
    "    # Evaluate accuracy\n",
    "    accuracy = accuracy_score(y_test.cpu().numpy(), predicted.cpu().numpy())  # Convert back to NumPy for sklearn\n",
    "    return accuracy, model, predicted  # Return accuracy, model, and predictions for further evaluation\n",
    "\n",
    "# Hyperparameter grid for grid search\n",
    "learning_rates = [0.001, 0.01, 0.1]\n",
    "num_epochs_list = [50, 100, 150]\n",
    "\n",
    "# Create a cartesian product of all hyperparameter combinations\n",
    "param_combinations = list(itertools.product(learning_rates, num_epochs_list))\n",
    "\n",
    "# Initialize variables to track the best hyperparameters\n",
    "best_accuracy = 0\n",
    "best_params = None\n",
    "best_model = None\n",
    "best_predictions = None\n",
    "\n",
    "# Perform grid search\n",
    "for lr, epochs in param_combinations:\n",
    "    print(f\"Training with learning_rate={lr} and num_epochs={epochs}\")\n",
    "    accuracy, model, predicted = train_and_evaluate_model_accuracy(lr, epochs)\n",
    "    print(f\"Accuracy: {accuracy:.4f}\")\n",
    "\n",
    "    # Track the best model based on accuracy\n",
    "    if accuracy > best_accuracy:\n",
    "        best_accuracy = accuracy\n",
    "        best_params = (lr, epochs)\n",
    "        best_model = model\n",
    "        best_predictions = predicted\n",
    "\n",
    "# Output the best hyperparameters\n",
    "print(f\"Best Hyperparameters: Learning Rate={best_params[0]}, Epochs={best_params[1]}\")\n",
    "print(f\"Best Model Accuracy: {best_accuracy:.4f}\")\n"
   ]
  },
  {
   "cell_type": "code",
   "execution_count": null,
   "metadata": {},
   "outputs": [
    {
     "name": "stdout",
     "output_type": "stream",
     "text": [
      "Accuracy: 0.9068\n",
      "Precision (weighted): 0.9073\n",
      "Recall (weighted): 0.9068\n",
      "F1 Score (weighted): 0.9068\n",
      "Confusion Matrix:\n",
      "[[54204  6049]\n",
      " [ 4468 48097]]\n"
     ]
    }
   ],
   "source": [
    "# Function to evaluate the model on all metrics\n",
    "def evaluate_all_metrics(model, best_predictions):\n",
    "    model.eval()  # Switch to evaluation mode\n",
    "\n",
    "    # Convert predictions and targets back to CPU and numpy for metric calculations\n",
    "    y_test_cpu = y_test.cpu().numpy()\n",
    "    predicted_cpu = best_predictions.cpu().numpy()\n",
    "\n",
    "    # Compute evaluation metrics\n",
    "    accuracy = accuracy_score(y_test_cpu, predicted_cpu)\n",
    "    precision = precision_score(y_test_cpu, predicted_cpu, average='weighted')\n",
    "    recall = recall_score(y_test_cpu, predicted_cpu, average='weighted')\n",
    "    f1 = f1_score(y_test_cpu, predicted_cpu, average='weighted')\n",
    "    cm = confusion_matrix(y_test_cpu, predicted_cpu)\n",
    "\n",
    "    # Displaying  metrics\n",
    "    print(f\"Accuracy: {accuracy:.4f}\")\n",
    "    print(f\"Precision (weighted): {precision:.4f}\")\n",
    "    print(f\"Recall (weighted): {recall:.4f}\")\n",
    "    print(f\"F1 Score (weighted): {f1:.4f}\")\n",
    "    print(\"Confusion Matrix:\")\n",
    "    print(cm)\n",
    "\n",
    "evaluate_all_metrics(best_model, best_predictions)\n"
   ]
  },
  {
   "cell_type": "code",
   "execution_count": null,
   "metadata": {},
   "outputs": [],
   "source": []
  }
 ],
 "metadata": {
  "kernelspec": {
   "display_name": "Python 3",
   "language": "python",
   "name": "python3"
  },
  "language_info": {
   "codemirror_mode": {
    "name": "ipython",
    "version": 3
   },
   "file_extension": ".py",
   "mimetype": "text/x-python",
   "name": "python",
   "nbconvert_exporter": "python",
   "pygments_lexer": "ipython3",
   "version": "3.11.3"
  }
 },
 "nbformat": 4,
 "nbformat_minor": 2
}
